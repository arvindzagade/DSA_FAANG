{
 "cells": [
  {
   "cell_type": "markdown",
   "id": "207684e8",
   "metadata": {},
   "source": [
    "### Find the index position of the element in given array"
   ]
  },
  {
   "cell_type": "code",
   "execution_count": 15,
   "id": "61f00cd2",
   "metadata": {},
   "outputs": [
    {
     "name": "stdout",
     "output_type": "stream",
     "text": [
      "47 Element is prsent at index position 3\n"
     ]
    }
   ],
   "source": [
    "## Function Defination\n",
    "# time complextiy - O(n)\n",
    "## Space Complexity -  O(1) as no extra space is used\n",
    "def linearserach(arr,x):\n",
    "    \n",
    "    for i in range(len(arr)):\n",
    "        if arr[i] == x:\n",
    "            return i\n",
    "        \n",
    "    return -1\n",
    "\n",
    "### Driver code\n",
    "arr = [20,45,27,47,55,67,75,88,90]\n",
    "x = 47\n",
    "# Function Calling\n",
    "result = linearserach(arr,x)\n",
    "print(f'{x} Element is prsent at index position', result)"
   ]
  },
  {
   "cell_type": "code",
   "execution_count": 14,
   "id": "c33c4214",
   "metadata": {},
   "outputs": [
    {
     "name": "stdout",
     "output_type": "stream",
     "text": [
      "Enter element to be found86\n",
      "index not found in an array\n",
      "86 Element is prsent at index position None\n"
     ]
    }
   ],
   "source": [
    "\n",
    "def linearserach(arr,x):\n",
    "    \n",
    "    for i in range(0,n):\n",
    "        if arr[i] == x:\n",
    "            return i\n",
    "    else:\n",
    "        print('index not found in an array')    \n",
    "\n",
    "### Driver code\n",
    "arr = [20,45,27,47,55,67,75,88,90]\n",
    "n = len(arr)\n",
    "x = int(input('Enter element to be found'))\n",
    "# Function Calling\n",
    "result = linearserach(arr,x)\n",
    "print(f'{x} Element is prsent at index position', result)"
   ]
  },
  {
   "cell_type": "code",
   "execution_count": null,
   "id": "ccc30648",
   "metadata": {},
   "outputs": [],
   "source": []
  }
 ],
 "metadata": {
  "kernelspec": {
   "display_name": "Python 3 (ipykernel)",
   "language": "python",
   "name": "python3"
  },
  "language_info": {
   "codemirror_mode": {
    "name": "ipython",
    "version": 3
   },
   "file_extension": ".py",
   "mimetype": "text/x-python",
   "name": "python",
   "nbconvert_exporter": "python",
   "pygments_lexer": "ipython3",
   "version": "3.10.5"
  }
 },
 "nbformat": 4,
 "nbformat_minor": 5
}
