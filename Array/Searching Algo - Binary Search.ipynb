{
 "cells": [
  {
   "cell_type": "code",
   "execution_count": 3,
   "id": "2f8d690a",
   "metadata": {},
   "outputs": [
    {
     "name": "stdout",
     "output_type": "stream",
     "text": [
      "Searching element is present at index location:  6\n"
     ]
    }
   ],
   "source": [
    "### Binary Search Algorithm\n",
    "## function defination\n",
    "\n",
    "def binarySearch(arr,x,i,j):\n",
    "    \n",
    "    ## if start index is less than last index\n",
    "    while i <= j:\n",
    "        \n",
    "        ## find the mid value\n",
    "        mid = i +(j-i)//2\n",
    "        \n",
    "        # Step 2: check if x is present at mid index if yes return the result\n",
    "        if arr[mid] == x:\n",
    "            return mid\n",
    "        \n",
    "        ## if mid is less than x,element is present in right side.. so search in right side\n",
    "        elif arr[mid] < x:\n",
    "            \n",
    "            # right side of mid\n",
    "            # search space -> mid +1 to j\n",
    "            ## As our search space in on right side,our i will be mid +1 and j will be last index\n",
    "            \n",
    "            return binarySearch(arr,x , mid+1,j)\n",
    "        \n",
    "        else:\n",
    "            ## left side of the mid\n",
    "            ## search space -> i to mid -1\n",
    "            # if mid is greater than serach element, our element is on left side, so search space will be\n",
    "            # from i =0 till j = mid- 1\n",
    "            \n",
    "            \n",
    "            return binarySearch(arr,x,i,mid-1)\n",
    "    \n",
    "    ## if search element is not present inside the array\n",
    "    return -1\n",
    "    \n",
    "## Driver Code\n",
    "arr = [20,30,40,50,60,70,80,90]\n",
    "x =  80\n",
    "i = 0 #starting index\n",
    "j = len(arr) - 1 ## last index\n",
    "\n",
    "#Function calling\n",
    "result = binarySearch(arr,x,i,j)\n",
    "print('Searching element is present at index location: ',result)"
   ]
  },
  {
   "cell_type": "code",
   "execution_count": 5,
   "id": "26cd47eb",
   "metadata": {},
   "outputs": [
    {
     "name": "stdout",
     "output_type": "stream",
     "text": [
      "Searching element is present at index location:  1\n"
     ]
    }
   ],
   "source": [
    "## Binary Search Algorithm\n",
    "## Function defination\n",
    "\n",
    "def binarySearch(arr,x,i,j):\n",
    "    while i<=j:\n",
    "        mid = i +(j-i)//2\n",
    "        if arr[mid] == x:\n",
    "            return mid\n",
    "        elif arr[mid] < x:\n",
    "            # right side of mid\n",
    "            # search space -> mid +1 to j\n",
    "             return binarySearch(arr,x , mid+1,j)\n",
    "        else:\n",
    "            ## left side of the mid\n",
    "            ## search space -> i to mid -1\n",
    "            return binarySearch(arr,x,i,mid-1)\n",
    "    ## Searching element not present in array    \n",
    "    return -1\n",
    "\n",
    "## Driver Code\n",
    "arr = [20,30,40,50,60,70,80,90]\n",
    "x =  30\n",
    "i = 0 #starting index\n",
    "j = len(arr) - 1 ## last index\n",
    "\n",
    "#Function calling\n",
    "result = binarySearch(arr,x,i,j)\n",
    "print('Searching element is present at index location: ',result)"
   ]
  },
  {
   "cell_type": "code",
   "execution_count": null,
   "id": "267291a8",
   "metadata": {},
   "outputs": [],
   "source": []
  }
 ],
 "metadata": {
  "kernelspec": {
   "display_name": "Python 3 (ipykernel)",
   "language": "python",
   "name": "python3"
  },
  "language_info": {
   "codemirror_mode": {
    "name": "ipython",
    "version": 3
   },
   "file_extension": ".py",
   "mimetype": "text/x-python",
   "name": "python",
   "nbconvert_exporter": "python",
   "pygments_lexer": "ipython3",
   "version": "3.10.5"
  }
 },
 "nbformat": 4,
 "nbformat_minor": 5
}
