{
 "cells": [
  {
   "cell_type": "markdown",
   "id": "e45ed0ee",
   "metadata": {},
   "source": [
    "Problem statement"
   ]
  },
  {
   "cell_type": "markdown",
   "id": "0bfa07b0",
   "metadata": {},
   "source": [
    "You have been given a 2D array of size m x n.\n",
    "\n",
    "Return True if element is present in Array else Return False\n",
    "\n",
    "Constranints:\n",
    "\n",
    "    1. All elements in each row are sorted from left to right.\n",
    "    \n",
    "    2. First integer of each row is greater than last element of previous row"
   ]
  },
  {
   "cell_type": "markdown",
   "id": "91e655fe",
   "metadata": {},
   "source": [
    "### Best Approach"
   ]
  },
  {
   "cell_type": "code",
   "execution_count": 6,
   "id": "d4969df7",
   "metadata": {},
   "outputs": [
    {
     "name": "stdout",
     "output_type": "stream",
     "text": [
      "True\n"
     ]
    }
   ],
   "source": [
    "### Function defination\n",
    "### Time complexity -> O (log(m*n))\n",
    "def search2DArray(arr,target):\n",
    "    \n",
    "    #number of rows\n",
    "    m = len(arr)\n",
    "    if m==0:\n",
    "        return False\n",
    "\n",
    "    ## Length of the columns\n",
    "    n = len(arr[0])\n",
    "    left,right = 0, m*n-1\n",
    "    \n",
    "    ###Binary Search\n",
    "    while left <= right:\n",
    "        mid = left + (right -left)//2\n",
    "        mid_element = arr[mid//2][mid%n]\n",
    "        \n",
    "        ## row_number = mid // n\n",
    "        ## column_number  = mid%n\n",
    "        if target == mid_element:\n",
    "            return True\n",
    "        elif target < mid_element:\n",
    "            right = mid - 1\n",
    "        else:\n",
    "            left = mid+1\n",
    "    return False\n",
    "\n",
    "## Driver Code\n",
    "arr = [[ 1, 3, 5,7],\n",
    "       [10,11,16,20],\n",
    "       [23,30,34,60]]\n",
    "\n",
    "target = 3\n",
    "result = search2DArray(arr,target)\n",
    "print(result)"
   ]
  },
  {
   "cell_type": "markdown",
   "id": "b4641bb1",
   "metadata": {},
   "source": [
    "## Brute Force Approach"
   ]
  },
  {
   "cell_type": "code",
   "execution_count": 23,
   "id": "1df98762",
   "metadata": {},
   "outputs": [
    {
     "name": "stdout",
     "output_type": "stream",
     "text": [
      "False\n"
     ]
    }
   ],
   "source": [
    "### Fuction Defination\n",
    "\n",
    "def search2DArr(arr,target):\n",
    "    \n",
    "    #number of rows\n",
    "    m = len(arr)\n",
    "    if m==0:\n",
    "        return False\n",
    "\n",
    "    ## Length of the columns\n",
    "    n = len(arr[0])\n",
    "    left,right = 0, m*n-1\n",
    "    \n",
    "    for i in range(0,m):\n",
    "        for j in range(0,n):\n",
    "            \n",
    "            if arr[i][j] == target:\n",
    "                return True\n",
    "    return False\n",
    "\n",
    "## Driver Code\n",
    "arr = [[ 1, 3, 5,7],\n",
    "       [10,11,16,20],\n",
    "       [23,30,34,60]]\n",
    "\n",
    "target = 24\n",
    "result = search2DArr(arr,target)\n",
    "print(result)"
   ]
  },
  {
   "cell_type": "code",
   "execution_count": null,
   "id": "2f4dc5cc",
   "metadata": {},
   "outputs": [],
   "source": []
  }
 ],
 "metadata": {
  "kernelspec": {
   "display_name": "Python 3 (ipykernel)",
   "language": "python",
   "name": "python3"
  },
  "language_info": {
   "codemirror_mode": {
    "name": "ipython",
    "version": 3
   },
   "file_extension": ".py",
   "mimetype": "text/x-python",
   "name": "python",
   "nbconvert_exporter": "python",
   "pygments_lexer": "ipython3",
   "version": "3.10.5"
  }
 },
 "nbformat": 4,
 "nbformat_minor": 5
}
