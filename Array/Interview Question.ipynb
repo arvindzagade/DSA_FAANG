{
 "cells": [
  {
   "cell_type": "markdown",
   "id": "885ba8be",
   "metadata": {},
   "source": [
    "## Find a pair of an array whose sum is equal to target"
   ]
  },
  {
   "cell_type": "markdown",
   "id": "cd43393c",
   "metadata": {},
   "source": [
    "Approach 1 : Using Linear Search"
   ]
  },
  {
   "cell_type": "code",
   "execution_count": 14,
   "id": "ab0c13b7",
   "metadata": {},
   "outputs": [
    {
     "name": "stdout",
     "output_type": "stream",
     "text": [
      "The pair is found at the index location of:  (0, 4)\n"
     ]
    }
   ],
   "source": [
    "## Time Complextiy - O(n2)\n",
    "def twosum(arr,target):\n",
    "    \n",
    "    for i in range(0,len(arr)):\n",
    "        for j in range(i+1,len(arr)):\n",
    "            if arr[i] + arr[j] == target:\n",
    "                return (i,j)\n",
    "    return (-1,-1)\n",
    "\n",
    "## Driver code\n",
    "arr = [20,40,60,80,90,120,210]\n",
    "target = 110\n",
    "result = twosum(arr,target)\n",
    "print(\"The pair is found at the index location of: \", result)"
   ]
  },
  {
   "cell_type": "markdown",
   "id": "a84b0f2b",
   "metadata": {},
   "source": [
    "Approach 2: Using Binary Search -> As array is sorted"
   ]
  },
  {
   "cell_type": "code",
   "execution_count": null,
   "id": "0b06448b",
   "metadata": {},
   "outputs": [],
   "source": [
    "\n",
    "\n",
    "\n",
    "\n",
    "\n",
    "## Driver code\n",
    "arr = [20,40,60,80,90,120,210]\n",
    "i = 0\n",
    "j = len(arr)-1\n",
    "target = 60\n",
    "result = SumPair(arr,i,j,target)\n",
    "print(\"The pair is found at the index location of: \", result)"
   ]
  },
  {
   "cell_type": "markdown",
   "id": "c41c3fed",
   "metadata": {},
   "source": [
    "Approach 3: Using Two Pointers"
   ]
  },
  {
   "cell_type": "code",
   "execution_count": 5,
   "id": "1fe1847f",
   "metadata": {},
   "outputs": [
    {
     "name": "stdout",
     "output_type": "stream",
     "text": [
      "The pair is found at the index location of:  (0, 1)\n"
     ]
    }
   ],
   "source": [
    "## Function defination\n",
    "## using two pointers(Greedy Approach).. \n",
    "## As we are doing logarithmic search TC-> O(n)\n",
    "\n",
    "def SumPair(arr,i,j,target):\n",
    "    \n",
    "    # Time Complexity -- > O(n)\n",
    "    while i<=j:\n",
    "        \n",
    "        if arr[i] + arr[j] == target:\n",
    "            return (i,j)\n",
    "        \n",
    "        elif arr[i] + arr[j] >= target:\n",
    "            j = j-1\n",
    "        else:\n",
    "            i = i+1\n",
    "    return -1\n",
    "\n",
    "## Driver code\n",
    "arr = [20,40,60,80,90,120,210]\n",
    "i = 0\n",
    "j = len(arr)-1\n",
    "target = 60\n",
    "result = SumPair(arr,i,j,target)\n",
    "print(\"The pair is found at the index location of: \", result)"
   ]
  },
  {
   "cell_type": "code",
   "execution_count": null,
   "id": "ef1b23e9",
   "metadata": {},
   "outputs": [],
   "source": []
  }
 ],
 "metadata": {
  "kernelspec": {
   "display_name": "Python 3 (ipykernel)",
   "language": "python",
   "name": "python3"
  },
  "language_info": {
   "codemirror_mode": {
    "name": "ipython",
    "version": 3
   },
   "file_extension": ".py",
   "mimetype": "text/x-python",
   "name": "python",
   "nbconvert_exporter": "python",
   "pygments_lexer": "ipython3",
   "version": "3.10.5"
  }
 },
 "nbformat": 4,
 "nbformat_minor": 5
}
